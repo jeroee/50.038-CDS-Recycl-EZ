{
  "nbformat": 4,
  "nbformat_minor": 0,
  "metadata": {
    "colab": {
      "name": "Pretrained Model Approaches.ipynb",
      "provenance": [],
      "collapsed_sections": [
        "Kx8C85tkDZz1"
      ],
      "toc_visible": true,
      "include_colab_link": true
    },
    "kernelspec": {
      "name": "python3",
      "display_name": "Python 3"
    },
    "accelerator": "GPU"
  },
  "cells": [
    {
      "cell_type": "markdown",
      "metadata": {
        "id": "view-in-github",
        "colab_type": "text"
      },
      "source": [
        "<a href=\"https://colab.research.google.com/github/jeroee/50.038_CDS_Recycl-EZ/blob/main/Pretrained_Model_Approaches.ipynb\" target=\"_parent\"><img src=\"https://colab.research.google.com/assets/colab-badge.svg\" alt=\"Open In Colab\"/></a>"
      ]
    },
    {
      "cell_type": "code",
      "metadata": {
        "id": "AbMixB7Kyv_n",
        "colab": {
          "base_uri": "https://localhost:8080/"
        },
        "outputId": "d8f105c3-aa61-47a4-f45e-f2c9f5412c3d"
      },
      "source": [
        "from google.colab import drive\n",
        "drive.mount('/content/drive/')"
      ],
      "execution_count": null,
      "outputs": [
        {
          "output_type": "stream",
          "text": [
            "Mounted at /content/drive/\n"
          ],
          "name": "stdout"
        }
      ]
    },
    {
      "cell_type": "code",
      "metadata": {
        "id": "J6Wy_Z15K3Tc"
      },
      "source": [
        "import numpy as np\n",
        "import os\n",
        "import cv2\n",
        "import matplotlib.pyplot as plt\n",
        "import random\n",
        "import pickle\n",
        "from natsort import natsorted\n",
        "import numpy as np\n",
        "from glob import glob\n",
        "import matplotlib.pyplot as plt\n",
        "import PIL\n"
      ],
      "execution_count": null,
      "outputs": []
    },
    {
      "cell_type": "code",
      "metadata": {
        "id": "IpLZglak9iRD"
      },
      "source": [
        "from keras.layers import Input, Lambda, Dense, Flatten, Dropout, GlobalAveragePooling2D, GlobalMaxPooling2D\n",
        "from keras.models import Model,load_model\n",
        "from keras.applications.vgg16 import VGG16\n",
        "from keras.applications.resnet50 import ResNet50\n",
        "from keras.applications.vgg16 import preprocess_input\n",
        "from keras.preprocessing import image\n",
        "from keras.preprocessing.image import ImageDataGenerator\n",
        "from keras.models import Sequential\n",
        "from keras import optimizers, losses,layers\n",
        "from sklearn.metrics import classification_report\n",
        "from sklearn.metrics import confusion_matrix\n",
        "import seaborn as sns\n",
        "import pandas"
      ],
      "execution_count": null,
      "outputs": []
    },
    {
      "cell_type": "code",
      "metadata": {
        "colab": {
          "base_uri": "https://localhost:8080/"
        },
        "id": "HLqhQUOscv5V",
        "outputId": "b5563de3-bc96-4bb6-9c72-74da6a141117"
      },
      "source": [
        "# double check keras and tensorflow version to see proper installation\n",
        "import keras\n",
        "print(keras.__version__)\n",
        "import tensorflow\n",
        "print(tensorflow.__version__)"
      ],
      "execution_count": null,
      "outputs": [
        {
          "output_type": "stream",
          "text": [
            "2.4.3\n",
            "2.3.0\n"
          ],
          "name": "stdout"
        }
      ]
    },
    {
      "cell_type": "markdown",
      "metadata": {
        "id": "xjYQlFT7wUuG"
      },
      "source": [
        ""
      ]
    },
    {
      "cell_type": "code",
      "metadata": {
        "id": "vpgvZDAc9iPr"
      },
      "source": [
        "# declaring the paths\n",
        "train_path = 'drive/My Drive/recyclables/train'\n",
        "valid_path = 'drive/My Drive/recyclables/valid'\n",
        "test_path = 'drive/My Drive/recyclables/test'"
      ],
      "execution_count": null,
      "outputs": []
    },
    {
      "cell_type": "code",
      "metadata": {
        "id": "LHIMlByK9iMX",
        "colab": {
          "base_uri": "https://localhost:8080/"
        },
        "outputId": "20ca88f2-d912-4498-9741-35146c4bbde7"
      },
      "source": [
        "# displaying the number of training,validation, testing data \n",
        "train_count=0\n",
        "valid_count=0\n",
        "test_count=0\n",
        "\n",
        "categories = glob(train_path+'/*')\n",
        "for i in categories:\n",
        "  train_count+=(len(os.listdir(i)))\n",
        "  \n",
        "categories = glob(valid_path+'/*')\n",
        "for i in categories:\n",
        "  valid_count+=(len(os.listdir(i)))\n",
        "\n",
        "categories = glob(test_path+'/*')\n",
        "for i in categories:\n",
        "  test_count+=(len(os.listdir(i)))\n",
        "\n",
        "print(f'Number of training samples:{train_count}')\n",
        "print(f'Number of validation samples:{valid_count}')\n",
        "print(f'Number of test samples:{test_count}')"
      ],
      "execution_count": null,
      "outputs": [
        {
          "output_type": "stream",
          "text": [
            "Number of training samples:3860\n",
            "Number of validation samples:482\n",
            "Number of test samples:479\n"
          ],
          "name": "stdout"
        }
      ]
    },
    {
      "cell_type": "markdown",
      "metadata": {
        "id": "zOb_sgXSDof-"
      },
      "source": [
        "## VGG16 Model"
      ]
    },
    {
      "cell_type": "code",
      "metadata": {
        "id": "rHzcCAOL9iOX"
      },
      "source": [
        "IMAGE_SIZE = [224, 224]\n",
        "vgg = VGG16(input_shape=IMAGE_SIZE + [3], weights='imagenet', include_top=False)"
      ],
      "execution_count": null,
      "outputs": []
    },
    {
      "cell_type": "code",
      "metadata": {
        "id": "0UxTsrb3NRv2"
      },
      "source": [
        "for layer in vgg.layers:\n",
        "  layer.trainable = False  \n",
        "\n",
        "model = Sequential()\n",
        "model.add(vgg)\n",
        "# model.add(GlobalMaxPooling2D())\n",
        "# model.add(GlobalAveragePooling2D())\n",
        "model.add(Flatten())\n",
        "model.add(Dense(1024, activation='relu'))\n",
        "model.add(Dropout(0.2))\n",
        "model.add(Dense(len(categories), activation='softmax'))"
      ],
      "execution_count": null,
      "outputs": []
    },
    {
      "cell_type": "code",
      "metadata": {
        "id": "ldIUKk71-SyK",
        "colab": {
          "base_uri": "https://localhost:8080/"
        },
        "outputId": "5e17d477-6617-4ade-f166-dc19a8a42a31"
      },
      "source": [
        "model.summary()\n",
        "model.compile(\n",
        "  loss='categorical_crossentropy',\n",
        "  optimizer=optimizers.Adam(lr=0.0001),\n",
        "  metrics=['accuracy']\n",
        ")"
      ],
      "execution_count": null,
      "outputs": [
        {
          "output_type": "stream",
          "text": [
            "Model: \"sequential_24\"\n",
            "_________________________________________________________________\n",
            "Layer (type)                 Output Shape              Param #   \n",
            "=================================================================\n",
            "vgg16 (Functional)           (None, 7, 7, 512)         14714688  \n",
            "_________________________________________________________________\n",
            "flatten_11 (Flatten)         (None, 25088)             0         \n",
            "_________________________________________________________________\n",
            "dense_53 (Dense)             (None, 1024)              25691136  \n",
            "_________________________________________________________________\n",
            "dropout_13 (Dropout)         (None, 1024)              0         \n",
            "_________________________________________________________________\n",
            "dense_54 (Dense)             (None, 5)                 5125      \n",
            "=================================================================\n",
            "Total params: 40,410,949\n",
            "Trainable params: 25,696,261\n",
            "Non-trainable params: 14,714,688\n",
            "_________________________________________________________________\n"
          ],
          "name": "stdout"
        }
      ]
    },
    {
      "cell_type": "code",
      "metadata": {
        "id": "4gxzr6n-_SQe",
        "colab": {
          "base_uri": "https://localhost:8080/"
        },
        "outputId": "14416a93-9259-44c8-ebc4-fda3335352c8"
      },
      "source": [
        "from keras.preprocessing.image import ImageDataGenerator\n",
        "\n",
        "# data augmentation\n",
        "train_datagen = ImageDataGenerator(rescale = 1./255,\n",
        "                                   shear_range = 0.2,\n",
        "                                   zoom_range = 0.2,\n",
        "                                   width_shift_range=0.2,\n",
        "                                   height_shift_range=0.2,\n",
        "                                   rotation_range=20,\n",
        "                                   horizontal_flip = True,\n",
        "                                   vertical_flip = True)\n",
        "\n",
        "valid_datagen = ImageDataGenerator(rescale = 1./255)\n",
        "\n",
        "test_datagen = ImageDataGenerator(rescale = 1./255)\n",
        "\n",
        "# number of training sets will be the total training data/batch size \n",
        "train_set = train_datagen.flow_from_directory(train_path,\n",
        "                                                 target_size = (224, 224),\n",
        "                                                 batch_size = 32,\n",
        "                                                 class_mode = 'categorical')\n",
        "# number of validation sets will be the total test data/batch size\n",
        "valid_set = valid_datagen.flow_from_directory(valid_path,\n",
        "                                            target_size = (224, 224),\n",
        "                                            batch_size = 32,\n",
        "                                            class_mode = 'categorical')\n",
        "\n",
        "test_set = test_datagen.flow_from_directory(test_path,\n",
        "                                            target_size=(224,224),\n",
        "                                            class_mode=None,\n",
        "                                            shuffle=False)"
      ],
      "execution_count": null,
      "outputs": [
        {
          "output_type": "stream",
          "text": [
            "Found 3860 images belonging to 5 classes.\n",
            "Found 482 images belonging to 5 classes.\n",
            "Found 479 images belonging to 5 classes.\n"
          ],
          "name": "stdout"
        }
      ]
    },
    {
      "cell_type": "code",
      "metadata": {
        "colab": {
          "base_uri": "https://localhost:8080/"
        },
        "id": "CthyGbfTS8Q1",
        "outputId": "dc2fbe2d-7196-45c8-cb43-7615c32e1e7d"
      },
      "source": [
        "# number of training and validation batches\n",
        "print(f'batches of training data:{len(train_set)}')\n",
        "print(f'batches of validation data:{len(valid_set)}')"
      ],
      "execution_count": null,
      "outputs": [
        {
          "output_type": "stream",
          "text": [
            "batches of training data:121\n",
            "batches of validation data:16\n"
          ],
          "name": "stdout"
        }
      ]
    },
    {
      "cell_type": "code",
      "metadata": {
        "id": "Zjx-GT1d_SS3",
        "colab": {
          "base_uri": "https://localhost:8080/"
        },
        "outputId": "42127a17-ad3c-4460-817f-75fb5312c7a8"
      },
      "source": [
        "#training model\n",
        "r = model.fit_generator(\n",
        "  train_set,\n",
        "  validation_data=valid_set,\n",
        "  epochs=30,\n",
        "  steps_per_epoch=len(train_set),\n",
        "  validation_steps=len(valid_set)\n",
        ")\n"
      ],
      "execution_count": null,
      "outputs": [
        {
          "output_type": "stream",
          "text": [
            "Epoch 1/30\n",
            "121/121 [==============================] - 70s 577ms/step - loss: 1.0812 - accuracy: 0.5837 - val_loss: 0.7127 - val_accuracy: 0.7531\n",
            "Epoch 2/30\n",
            "121/121 [==============================] - 69s 569ms/step - loss: 0.7694 - accuracy: 0.7065 - val_loss: 0.5779 - val_accuracy: 0.7739\n",
            "Epoch 3/30\n",
            "121/121 [==============================] - 69s 573ms/step - loss: 0.6961 - accuracy: 0.7223 - val_loss: 0.5431 - val_accuracy: 0.8216\n",
            "Epoch 4/30\n",
            "121/121 [==============================] - 70s 575ms/step - loss: 0.6442 - accuracy: 0.7477 - val_loss: 0.5596 - val_accuracy: 0.8091\n",
            "Epoch 5/30\n",
            "121/121 [==============================] - 70s 577ms/step - loss: 0.6287 - accuracy: 0.7565 - val_loss: 0.5466 - val_accuracy: 0.8216\n",
            "Epoch 6/30\n",
            "121/121 [==============================] - 70s 581ms/step - loss: 0.5917 - accuracy: 0.7697 - val_loss: 0.5030 - val_accuracy: 0.8382\n",
            "Epoch 7/30\n",
            "121/121 [==============================] - 69s 572ms/step - loss: 0.5771 - accuracy: 0.7751 - val_loss: 0.4863 - val_accuracy: 0.8423\n",
            "Epoch 8/30\n",
            "121/121 [==============================] - 70s 577ms/step - loss: 0.5747 - accuracy: 0.7759 - val_loss: 0.4833 - val_accuracy: 0.8340\n",
            "Epoch 9/30\n",
            "121/121 [==============================] - 69s 571ms/step - loss: 0.5530 - accuracy: 0.7873 - val_loss: 0.4380 - val_accuracy: 0.8465\n",
            "Epoch 10/30\n",
            "121/121 [==============================] - 69s 574ms/step - loss: 0.5253 - accuracy: 0.7984 - val_loss: 0.4491 - val_accuracy: 0.8610\n",
            "Epoch 11/30\n",
            "121/121 [==============================] - 70s 580ms/step - loss: 0.5180 - accuracy: 0.7940 - val_loss: 0.4741 - val_accuracy: 0.8320\n",
            "Epoch 12/30\n",
            "121/121 [==============================] - 70s 582ms/step - loss: 0.4828 - accuracy: 0.8199 - val_loss: 0.4378 - val_accuracy: 0.8589\n",
            "Epoch 13/30\n",
            "121/121 [==============================] - 70s 575ms/step - loss: 0.4994 - accuracy: 0.8093 - val_loss: 0.4773 - val_accuracy: 0.8423\n",
            "Epoch 14/30\n",
            "121/121 [==============================] - 70s 579ms/step - loss: 0.4646 - accuracy: 0.8220 - val_loss: 0.4640 - val_accuracy: 0.8382\n",
            "Epoch 15/30\n",
            "121/121 [==============================] - 70s 578ms/step - loss: 0.4590 - accuracy: 0.8238 - val_loss: 0.4261 - val_accuracy: 0.8651\n",
            "Epoch 16/30\n",
            "121/121 [==============================] - 70s 579ms/step - loss: 0.4535 - accuracy: 0.8269 - val_loss: 0.4581 - val_accuracy: 0.8485\n",
            "Epoch 17/30\n",
            "121/121 [==============================] - 70s 578ms/step - loss: 0.4438 - accuracy: 0.8251 - val_loss: 0.4027 - val_accuracy: 0.8693\n",
            "Epoch 18/30\n",
            "121/121 [==============================] - 69s 574ms/step - loss: 0.4580 - accuracy: 0.8254 - val_loss: 0.4174 - val_accuracy: 0.8506\n",
            "Epoch 19/30\n",
            "121/121 [==============================] - 70s 575ms/step - loss: 0.4379 - accuracy: 0.8303 - val_loss: 0.3809 - val_accuracy: 0.8672\n",
            "Epoch 20/30\n",
            "121/121 [==============================] - 69s 572ms/step - loss: 0.4243 - accuracy: 0.8399 - val_loss: 0.4105 - val_accuracy: 0.8485\n",
            "Epoch 21/30\n",
            "121/121 [==============================] - 71s 583ms/step - loss: 0.4286 - accuracy: 0.8329 - val_loss: 0.3865 - val_accuracy: 0.8589\n",
            "Epoch 22/30\n",
            "121/121 [==============================] - 70s 581ms/step - loss: 0.4332 - accuracy: 0.8210 - val_loss: 0.4332 - val_accuracy: 0.8423\n",
            "Epoch 23/30\n",
            "121/121 [==============================] - 70s 582ms/step - loss: 0.4197 - accuracy: 0.8427 - val_loss: 0.4004 - val_accuracy: 0.8631\n",
            "Epoch 24/30\n",
            "121/121 [==============================] - 70s 580ms/step - loss: 0.3966 - accuracy: 0.8521 - val_loss: 0.4031 - val_accuracy: 0.8714\n",
            "Epoch 25/30\n",
            "121/121 [==============================] - 71s 585ms/step - loss: 0.4037 - accuracy: 0.8404 - val_loss: 0.4480 - val_accuracy: 0.8382\n",
            "Epoch 26/30\n",
            "121/121 [==============================] - 70s 576ms/step - loss: 0.4126 - accuracy: 0.8409 - val_loss: 0.3977 - val_accuracy: 0.8631\n",
            "Epoch 27/30\n",
            "121/121 [==============================] - 70s 575ms/step - loss: 0.3799 - accuracy: 0.8622 - val_loss: 0.4392 - val_accuracy: 0.8651\n",
            "Epoch 28/30\n",
            "121/121 [==============================] - 70s 577ms/step - loss: 0.3863 - accuracy: 0.8560 - val_loss: 0.4104 - val_accuracy: 0.8651\n",
            "Epoch 29/30\n",
            "121/121 [==============================] - 70s 579ms/step - loss: 0.3797 - accuracy: 0.8510 - val_loss: 0.3807 - val_accuracy: 0.8776\n",
            "Epoch 30/30\n",
            "121/121 [==============================] - 71s 586ms/step - loss: 0.3829 - accuracy: 0.8541 - val_loss: 0.3981 - val_accuracy: 0.8651\n"
          ],
          "name": "stdout"
        }
      ]
    },
    {
      "cell_type": "code",
      "metadata": {
        "colab": {
          "base_uri": "https://localhost:8080/"
        },
        "id": "4jT2EBizt-Si",
        "outputId": "a595ab2e-685d-4f8c-fc9f-965522451f8f"
      },
      "source": [
        "name = 'VGG16_6'\n",
        "model.save(f'drive/My Drive/recyclables/VGG16_model/{name}')"
      ],
      "execution_count": null,
      "outputs": [
        {
          "output_type": "stream",
          "text": [
            "INFO:tensorflow:Assets written to: drive/My Drive/recyclables/VGG16_model/VGG16_6/assets\n"
          ],
          "name": "stdout"
        }
      ]
    },
    {
      "cell_type": "code",
      "metadata": {
        "id": "esQa3dsNGNLS"
      },
      "source": [
        "%matplotlib inline"
      ],
      "execution_count": null,
      "outputs": []
    },
    {
      "cell_type": "code",
      "metadata": {
        "id": "nr5t_1WRJzN8",
        "colab": {
          "base_uri": "https://localhost:8080/",
          "height": 573
        },
        "outputId": "507e0e9c-1f10-421b-c432-7b059e4a448f"
      },
      "source": [
        "loss = name+'_loss'\n",
        "acc = name+'_acc'\n",
        "# loss\n",
        "plt.plot(r.history['loss'], label='Training Loss')\n",
        "plt.plot(r.history['val_loss'], label='Validation Loss')\n",
        "plt.legend()\n",
        "plt.title(loss,color='black')\n",
        "plt.xlabel('epoch',color='black')\n",
        "plt.ylim(ymin=0)\n",
        "plt.ylabel('loss',color='black')\n",
        "plt.tick_params(colors='black')\n",
        "plt.savefig(f'drive/My Drive/recyclables/VGG16_model/graphs/{loss}',dpi=100,bbox_inches = 'tight')\n",
        "plt.show()\n",
        "# accuracy\n",
        "\n",
        "plt.plot(r.history['accuracy'], label='Training Accuracy')\n",
        "plt.plot(r.history['val_accuracy'], label='Validation Accuracy')\n",
        "plt.legend()\n",
        "plt.title(acc,color='black')\n",
        "plt.xlabel('epoch',color='black')\n",
        "plt.ylim(ymin=0,ymax=1)\n",
        "plt.ylabel('accuracy',color='black')\n",
        "plt.tick_params(colors='black')\n",
        "\n",
        "plt.savefig(f'drive/My Drive/recyclables/VGG16_model/graphs/{acc}',dpi=100,bbox_inches = 'tight')\n",
        "plt.show()"
      ],
      "execution_count": null,
      "outputs": [
        {
          "output_type": "display_data",
          "data": {
            "image/png": "[encoded data removed]",
            "text/plain": [
              "<Figure size 432x288 with 1 Axes>"
            ]
          },
          "metadata": {
            "tags": [],
            "needs_background": "light"
          }
        },
        {
          "output_type": "display_data",
          "data": {
            "image/png": "[encoded data removed]",
            "text/plain": [
              "<Figure size 432x288 with 1 Axes>"
            ]
          },
          "metadata": {
            "tags": [],
            "needs_background": "light"
          }
        }
      ]
    },
    {
      "cell_type": "code",
      "metadata": {
        "id": "DX-SCz3vCeec",
        "colab": {
          "base_uri": "https://localhost:8080/"
        },
        "outputId": "31cc352e-e66d-477b-b926-1b15f3d7eab4"
      },
      "source": [
        "#testing model on data\n",
        "print(name)\n",
        "vgg16_model = f'drive/My Drive/recyclables/VGG16_model/{name}'\n",
        "trained_model = load_model(vgg16_model)\n",
        "y_pred = trained_model.predict(test_set)"
      ],
      "execution_count": null,
      "outputs": [
        {
          "output_type": "stream",
          "text": [
            "VGG16_6\n"
          ],
          "name": "stdout"
        }
      ]
    },
    {
      "cell_type": "code",
      "metadata": {
        "id": "IWTHI9g-C8rp"
      },
      "source": [
        "predicted_labels = np.argmax(y_pred,axis=1)    #predicted labels in one hot\n",
        "true_labels = test_set.labels                  #true lables in one hot\n",
        "label_names = [i for i in train_set.class_indices.keys()]  #label names"
      ],
      "execution_count": null,
      "outputs": []
    },
    {
      "cell_type": "code",
      "metadata": {
        "colab": {
          "base_uri": "https://localhost:8080/"
        },
        "id": "WfLJ1gnjCoZm",
        "outputId": "c8c0937c-7d9a-44a6-abdd-3ce268d6319c"
      },
      "source": [
        "acc = np.count_nonzero(np.equal(predicted_labels,true_labels))/len(true_labels)\n",
        "print(f'Accuracy of model on test data is {round(acc*100,2)}%\\n')\n",
        "report = classification_report(true_labels,predicted_labels,target_names=label_names)\n",
        "print(report)"
      ],
      "execution_count": null,
      "outputs": [
        {
          "output_type": "stream",
          "text": [
            "Accuracy of model on test data is 84.34%\n",
            "\n",
            "              precision    recall  f1-score   support\n",
            "\n",
            "   cardboard       0.98      0.91      0.94        98\n",
            "       glass       0.79      0.74      0.76        95\n",
            "       metal       0.87      0.80      0.84        95\n",
            "       paper       0.82      0.98      0.89        98\n",
            "     plastic       0.77      0.78      0.78        93\n",
            "\n",
            "    accuracy                           0.84       479\n",
            "   macro avg       0.85      0.84      0.84       479\n",
            "weighted avg       0.85      0.84      0.84       479\n",
            "\n"
          ],
          "name": "stdout"
        }
      ]
    },
    {
      "cell_type": "code",
      "metadata": {
        "colab": {
          "base_uri": "https://localhost:8080/",
          "height": 513
        },
        "id": "8VMipXkmM27x",
        "outputId": "fc53d86a-8e9e-4b75-f3d5-fe7d971d94d0"
      },
      "source": [
        "cf = name+'_cf_matrix'\n",
        "cf_matrix = confusion_matrix(predicted_labels,true_labels)\n",
        "plt.figure(figsize=(10,8))\n",
        "sns.heatmap(cf_matrix, xticklabels=label_names, yticklabels=label_names, annot=True, fmt = 'd')\n",
        "plt.title('Confusion Matrix')\n",
        "plt.ylabel('True class')\n",
        "plt.xlabel('Predicted class')\n",
        "#saving confusion matrix to gdrive\n",
        "plt.savefig(f'drive/My Drive/recyclables/VGG16_model/graphs/{cf}')\n",
        "plt.show()"
      ],
      "execution_count": null,
      "outputs": [
        {
          "output_type": "display_data",
          "data": {
            "image/png": "[encoded data removed]",
            "text/plain": [
              "<Figure size 720x576 with 2 Axes>"
            ]
          },
          "metadata": {
            "tags": [],
            "needs_background": "light"
          }
        }
      ]
    },
    {
      "cell_type": "markdown",
      "metadata": {
        "id": "ewq5xk72C7UE"
      },
      "source": [
        "\r\n",
        "\r\n",
        "---\r\n",
        "\r\n"
      ]
    },
    {
      "cell_type": "markdown",
      "metadata": {
        "id": "PYCYHgZQQjBn"
      },
      "source": [
        "# Inception V3"
      ]
    },
    {
      "cell_type": "code",
      "metadata": {
        "id": "qjo7SwmyQtVq"
      },
      "source": [
        "from tensorflow.keras.applications.inception_v3 import InceptionV3"
      ],
      "execution_count": null,
      "outputs": []
    },
    {
      "cell_type": "code",
      "metadata": {
        "id": "BHK8CZqpQtbR"
      },
      "source": [
        "#image size is 299x299x3\n",
        "IMAGE_SIZE = [299, 299]\n",
        "pre_trained_model = InceptionV3(input_shape=IMAGE_SIZE + [3], weights='imagenet', include_top=False)\n"
      ],
      "execution_count": null,
      "outputs": []
    },
    {
      "cell_type": "code",
      "metadata": {
        "id": "ez4BNLK0QtZk"
      },
      "source": [
        "#choice to retrain certain layers\n",
        "for layer in pre_trained_model.layers[:-3]:\n",
        "    layer.trainable = False"
      ],
      "execution_count": null,
      "outputs": []
    },
    {
      "cell_type": "code",
      "metadata": {
        "id": "Qcx7pl-tTYG9",
        "colab": {
          "base_uri": "https://localhost:8080/"
        },
        "outputId": "c041efff-4ac4-4298-f24f-0d60cc5569d1"
      },
      "source": [
        "model = Sequential()\n",
        "model.add(pre_trained_model)\n",
        "# model.add(Flatten())\n",
        "#model.add(GlobalMaxPooling2D())\n",
        "model.add(GlobalAveragePooling2D())\n",
        "model.add(Dense(1024, activation='relu'))\n",
        "model.add(Dropout(0.2))\n",
        "model.add(Dense(5, activation='softmax'))\n",
        "\n",
        "model.summary()\n",
        "model.compile(\n",
        "  loss='categorical_crossentropy',\n",
        "  optimizer=optimizers.Adam(lr=0.0001),\n",
        "  metrics=['accuracy']\n",
        ")"
      ],
      "execution_count": null,
      "outputs": [
        {
          "output_type": "stream",
          "text": [
            "Model: \"sequential_4\"\n",
            "_________________________________________________________________\n",
            "Layer (type)                 Output Shape              Param #   \n",
            "=================================================================\n",
            "inception_v3 (Functional)    (None, 8, 8, 2048)        21802784  \n",
            "_________________________________________________________________\n",
            "global_average_pooling2d_2 ( (None, 2048)              0         \n",
            "_________________________________________________________________\n",
            "dense_8 (Dense)              (None, 1024)              2098176   \n",
            "_________________________________________________________________\n",
            "dropout_3 (Dropout)          (None, 1024)              0         \n",
            "_________________________________________________________________\n",
            "dense_9 (Dense)              (None, 5)                 5125      \n",
            "=================================================================\n",
            "Total params: 23,906,085\n",
            "Trainable params: 2,103,301\n",
            "Non-trainable params: 21,802,784\n",
            "_________________________________________________________________\n"
          ],
          "name": "stdout"
        }
      ]
    },
    {
      "cell_type": "code",
      "metadata": {
        "id": "gYeBE-CbUupw",
        "colab": {
          "base_uri": "https://localhost:8080/"
        },
        "outputId": "bedd821f-4beb-483b-ea5c-958d879913ee"
      },
      "source": [
        "from keras.preprocessing.image import ImageDataGenerator\n",
        "\n",
        "# data augmentation only for training set\n",
        "train_datagen = ImageDataGenerator(rescale = 1./255,\n",
        "                                   shear_range = 0.2,\n",
        "                                   zoom_range = 0.2,\n",
        "                                   width_shift_range=0.2,\n",
        "                                   height_shift_range=0.2,\n",
        "                                   rotation_range=20,\n",
        "                                   horizontal_flip = True,\n",
        "                                   vertical_flip = True)\n",
        "\n",
        "# validation data should not be augmented\n",
        "valid_datagen = ImageDataGenerator(rescale = 1./255)\n",
        "\n",
        "test_datagen = ImageDataGenerator(rescale = 1./255)\n",
        "\n",
        "# number of training sets will be the total training data/batch size \n",
        "train_set = train_datagen.flow_from_directory(train_path,\n",
        "                                                 target_size = (299, 299),\n",
        "                                                 batch_size = 32,\n",
        "                                                 class_mode = 'categorical')\n",
        "# number of validation sets will be the total test data/batch size\n",
        "valid_set = valid_datagen.flow_from_directory(valid_path,\n",
        "                                            target_size = (299, 299),\n",
        "                                            batch_size = 32,\n",
        "                                            class_mode = 'categorical')\n",
        "\n",
        "test_set = test_datagen.flow_from_directory(test_path,\n",
        "                                            target_size=(299,299),\n",
        "                                            class_mode=None,\n",
        "                                            shuffle=False)\n",
        "\n",
        "\n",
        "# test_set2 = test_datagen.flow_from_directory('drive/My Drive/recyclables/test_2',\n",
        "#                                              target_size=(299,299),\n",
        "#                                               class_mode=None,\n",
        "#                                               shuffle=False)"
      ],
      "execution_count": null,
      "outputs": [
        {
          "output_type": "stream",
          "text": [
            "Found 3860 images belonging to 5 classes.\n",
            "Found 482 images belonging to 5 classes.\n",
            "Found 479 images belonging to 5 classes.\n",
            "Found 100 images belonging to 5 classes.\n"
          ],
          "name": "stdout"
        }
      ]
    },
    {
      "cell_type": "markdown",
      "metadata": {
        "id": "gHbbxaDEnZ5j"
      },
      "source": [
        ""
      ]
    },
    {
      "cell_type": "code",
      "metadata": {
        "id": "HO7lpaDaYlXT",
        "colab": {
          "base_uri": "https://localhost:8080/"
        },
        "outputId": "ae01e84f-a516-4d57-a68a-7485e5c5d5a1"
      },
      "source": [
        "# checking number of batches to train\n",
        "print(len(train_set))\n",
        "print(len(valid_set))"
      ],
      "execution_count": null,
      "outputs": [
        {
          "output_type": "stream",
          "text": [
            "121\n",
            "16\n"
          ],
          "name": "stdout"
        }
      ]
    },
    {
      "cell_type": "code",
      "metadata": {
        "id": "610mlcyxVpAd",
        "colab": {
          "base_uri": "https://localhost:8080/"
        },
        "outputId": "6e9e70e1-580e-45e0-ddb2-948312d111e5"
      },
      "source": [
        "#training model\n",
        "r = model.fit_generator(\n",
        "  train_set,\n",
        "  validation_data=valid_set,\n",
        "  epochs=30,\n",
        "  steps_per_epoch=len(train_set),\n",
        "  validation_steps=len(valid_set)\n",
        ")"
      ],
      "execution_count": null,
      "outputs": [
        {
          "output_type": "stream",
          "text": [
            "Epoch 1/30\n",
            "121/121 [==============================] - 106s 873ms/step - loss: 0.6892 - accuracy: 0.7531 - val_loss: 0.3933 - val_accuracy: 0.8548\n",
            "Epoch 2/30\n",
            "121/121 [==============================] - 104s 863ms/step - loss: 0.4178 - accuracy: 0.8484 - val_loss: 0.3513 - val_accuracy: 0.8610\n",
            "Epoch 3/30\n",
            "121/121 [==============================] - 105s 869ms/step - loss: 0.3646 - accuracy: 0.8627 - val_loss: 0.3325 - val_accuracy: 0.8817\n",
            "Epoch 4/30\n",
            "121/121 [==============================] - 105s 867ms/step - loss: 0.3379 - accuracy: 0.8749 - val_loss: 0.3044 - val_accuracy: 0.8921\n",
            "Epoch 5/30\n",
            "121/121 [==============================] - 104s 858ms/step - loss: 0.3222 - accuracy: 0.8816 - val_loss: 0.3271 - val_accuracy: 0.8859\n",
            "Epoch 6/30\n",
            "121/121 [==============================] - 104s 861ms/step - loss: 0.3059 - accuracy: 0.8855 - val_loss: 0.2928 - val_accuracy: 0.8963\n",
            "Epoch 7/30\n",
            "121/121 [==============================] - 104s 857ms/step - loss: 0.2934 - accuracy: 0.8927 - val_loss: 0.2708 - val_accuracy: 0.9087\n",
            "Epoch 8/30\n",
            "121/121 [==============================] - 103s 851ms/step - loss: 0.2879 - accuracy: 0.8948 - val_loss: 0.2889 - val_accuracy: 0.8880\n",
            "Epoch 9/30\n",
            "121/121 [==============================] - 104s 857ms/step - loss: 0.2678 - accuracy: 0.9021 - val_loss: 0.2778 - val_accuracy: 0.8963\n",
            "Epoch 10/30\n",
            "121/121 [==============================] - 104s 862ms/step - loss: 0.2546 - accuracy: 0.9065 - val_loss: 0.2793 - val_accuracy: 0.8963\n",
            "Epoch 11/30\n",
            "121/121 [==============================] - 104s 862ms/step - loss: 0.2331 - accuracy: 0.9161 - val_loss: 0.2601 - val_accuracy: 0.9066\n",
            "Epoch 12/30\n",
            "121/121 [==============================] - 103s 854ms/step - loss: 0.2359 - accuracy: 0.9145 - val_loss: 0.2637 - val_accuracy: 0.9066\n",
            "Epoch 13/30\n",
            "121/121 [==============================] - 104s 858ms/step - loss: 0.2354 - accuracy: 0.9106 - val_loss: 0.2635 - val_accuracy: 0.9108\n",
            "Epoch 14/30\n",
            "121/121 [==============================] - 103s 852ms/step - loss: 0.2116 - accuracy: 0.9197 - val_loss: 0.2687 - val_accuracy: 0.9149\n",
            "Epoch 15/30\n",
            "121/121 [==============================] - 103s 854ms/step - loss: 0.2310 - accuracy: 0.9150 - val_loss: 0.2741 - val_accuracy: 0.9149\n",
            "Epoch 16/30\n",
            "121/121 [==============================] - 105s 867ms/step - loss: 0.2150 - accuracy: 0.9236 - val_loss: 0.2535 - val_accuracy: 0.9108\n",
            "Epoch 17/30\n",
            "121/121 [==============================] - 105s 864ms/step - loss: 0.2014 - accuracy: 0.9267 - val_loss: 0.2532 - val_accuracy: 0.9066\n",
            "Epoch 18/30\n",
            "121/121 [==============================] - 104s 864ms/step - loss: 0.1994 - accuracy: 0.9290 - val_loss: 0.2575 - val_accuracy: 0.9046\n",
            "Epoch 19/30\n",
            "121/121 [==============================] - 104s 858ms/step - loss: 0.1969 - accuracy: 0.9262 - val_loss: 0.2823 - val_accuracy: 0.8983\n",
            "Epoch 20/30\n",
            "121/121 [==============================] - 103s 851ms/step - loss: 0.1908 - accuracy: 0.9319 - val_loss: 0.2642 - val_accuracy: 0.9253\n",
            "Epoch 21/30\n",
            "121/121 [==============================] - 103s 852ms/step - loss: 0.1871 - accuracy: 0.9313 - val_loss: 0.2549 - val_accuracy: 0.9046\n",
            "Epoch 22/30\n",
            "121/121 [==============================] - 104s 863ms/step - loss: 0.1830 - accuracy: 0.9332 - val_loss: 0.2630 - val_accuracy: 0.9108\n",
            "Epoch 23/30\n",
            "121/121 [==============================] - 105s 871ms/step - loss: 0.1736 - accuracy: 0.9394 - val_loss: 0.2413 - val_accuracy: 0.9129\n",
            "Epoch 24/30\n",
            "121/121 [==============================] - 104s 859ms/step - loss: 0.1657 - accuracy: 0.9425 - val_loss: 0.2569 - val_accuracy: 0.9253\n",
            "Epoch 25/30\n",
            "121/121 [==============================] - 103s 854ms/step - loss: 0.1755 - accuracy: 0.9370 - val_loss: 0.2322 - val_accuracy: 0.9212\n",
            "Epoch 26/30\n",
            "121/121 [==============================] - 105s 864ms/step - loss: 0.1626 - accuracy: 0.9394 - val_loss: 0.2357 - val_accuracy: 0.9212\n",
            "Epoch 27/30\n",
            "121/121 [==============================] - 105s 868ms/step - loss: 0.1460 - accuracy: 0.9500 - val_loss: 0.2519 - val_accuracy: 0.9191\n",
            "Epoch 28/30\n",
            "121/121 [==============================] - 106s 878ms/step - loss: 0.1459 - accuracy: 0.9487 - val_loss: 0.2437 - val_accuracy: 0.9149\n",
            "Epoch 29/30\n",
            "121/121 [==============================] - 105s 867ms/step - loss: 0.1374 - accuracy: 0.9552 - val_loss: 0.2488 - val_accuracy: 0.9129\n",
            "Epoch 30/30\n",
            "121/121 [==============================] - 106s 873ms/step - loss: 0.1397 - accuracy: 0.9495 - val_loss: 0.2566 - val_accuracy: 0.9170\n"
          ],
          "name": "stdout"
        }
      ]
    },
    {
      "cell_type": "code",
      "metadata": {
        "id": "jlI694flX-n0",
        "colab": {
          "base_uri": "https://localhost:8080/"
        },
        "outputId": "a1ad00c7-ab7f-4904-ac00-4e3258a5a8da"
      },
      "source": [
        "name='InceptionV3_6'\n",
        "# save model to gdrive\n",
        "model.save(f'drive/My Drive/recyclables/InceptionV3_model/{name}')"
      ],
      "execution_count": null,
      "outputs": [
        {
          "output_type": "stream",
          "text": [
            "INFO:tensorflow:Assets written to: drive/My Drive/recyclables/InceptionV3_model/InceptionV3_6/assets\n"
          ],
          "name": "stdout"
        }
      ]
    },
    {
      "cell_type": "code",
      "metadata": {
        "id": "aG6u5oYAWtrj",
        "colab": {
          "base_uri": "https://localhost:8080/",
          "height": 573
        },
        "outputId": "ac1e498c-bce3-40ab-a5f1-ac16c6d0d36f"
      },
      "source": [
        "loss = name+'_loss'\n",
        "acc = name+'_acc'\n",
        "# loss\n",
        "plt.plot(r.history['loss'], label='Training Loss')\n",
        "plt.plot(r.history['val_loss'], label='Validation Loss')\n",
        "plt.legend()\n",
        "plt.ylim(ymin=0)\n",
        "plt.title(loss,color='black')\n",
        "plt.xlabel('epoch',color='black')\n",
        "plt.ylabel('loss',color='black')\n",
        "plt.tick_params(colors='black')\n",
        "#save loss graph to gdrive\n",
        "plt.savefig(f'drive/My Drive/recyclables/InceptionV3_model/graphs/{loss}',dpi=100,bbox_inches = 'tight')\n",
        "plt.show()\n",
        "# accuracy\n",
        "\n",
        "plt.plot(r.history['accuracy'], label='Training Accuracy')\n",
        "plt.plot(r.history['val_accuracy'], label='Validation Accuracy')\n",
        "plt.legend()\n",
        "plt.ylim(ymin=0,ymax=1)\n",
        "plt.title(acc,color='black')\n",
        "plt.xlabel('epoch',color='black')\n",
        "plt.ylabel('accuracy',color='black')\n",
        "plt.tick_params(colors='black')\n",
        "#save acc graph to gdrive\n",
        "plt.savefig(f'drive/My Drive/recyclables/InceptionV3_model/graphs/{acc}',dpi=100,bbox_inches = 'tight')\n",
        "plt.show()"
      ],
      "execution_count": null,
      "outputs": [
        {
          "output_type": "display_data",
          "data": {
            "image/png": "[encoded data removed]",
            "text/plain": [
              "<Figure size 432x288 with 1 Axes>"
            ]
          },
          "metadata": {
            "tags": [],
            "needs_background": "light"
          }
        },
        {
          "output_type": "display_data",
          "data": {
            "image/png": "[encoded data removed]",
            "text/plain": [
              "<Figure size 432x288 with 1 Axes>"
            ]
          },
          "metadata": {
            "tags": [],
            "needs_background": "light"
          }
        }
      ]
    },
    {
      "cell_type": "code",
      "metadata": {
        "id": "PM1e2a7WWFvq",
        "colab": {
          "base_uri": "https://localhost:8080/"
        },
        "outputId": "9ae52bbf-c776-4907-e00b-e531b6bf8f69"
      },
      "source": [
        "#testing model on data\n",
        "print(name)\n",
        "inception_model = f'drive/My Drive/recyclables/InceptionV3_model/{name}'\n",
        "trained_model = load_model(inception_model)\n",
        "y_pred = trained_model.predict(test_set)\n"
      ],
      "execution_count": null,
      "outputs": [
        {
          "output_type": "stream",
          "text": [
            "InceptionV3_6\n"
          ],
          "name": "stdout"
        }
      ]
    },
    {
      "cell_type": "code",
      "metadata": {
        "id": "X8gxbWYGfX2L",
        "colab": {
          "base_uri": "https://localhost:8080/"
        },
        "outputId": "8ebc1646-e7f4-439b-8896-b5ffa6e5d017"
      },
      "source": [
        "predicted_labels = np.argmax(y_pred,axis=1)    #predicted labels in one hot\n",
        "true_labels = test_set.labels                  #true lables in one hot\n",
        "label_names = [i for i in train_set.class_indices.keys()]  #label names\n",
        "\n",
        "acc = np.count_nonzero(np.equal(predicted_labels,true_labels))/len(true_labels)\n",
        "print(f'Accuracy of model on test data is {round(acc*100,2)}%\\n')\n",
        "report = classification_report(true_labels,predicted_labels,target_names=label_names)\n",
        "print(report)"
      ],
      "execution_count": null,
      "outputs": [
        {
          "output_type": "stream",
          "text": [
            "Accuracy of model on test data is 94.36%\n",
            "\n",
            "              precision    recall  f1-score   support\n",
            "\n",
            "   cardboard       0.97      1.00      0.98        98\n",
            "       glass       0.93      0.93      0.93        95\n",
            "       metal       0.91      0.98      0.94        95\n",
            "       paper       0.96      0.97      0.96        98\n",
            "     plastic       0.95      0.84      0.89        93\n",
            "\n",
            "    accuracy                           0.94       479\n",
            "   macro avg       0.94      0.94      0.94       479\n",
            "weighted avg       0.94      0.94      0.94       479\n",
            "\n"
          ],
          "name": "stdout"
        }
      ]
    },
    {
      "cell_type": "code",
      "metadata": {
        "id": "jYtHCWCUfyip",
        "colab": {
          "base_uri": "https://localhost:8080/",
          "height": 530
        },
        "outputId": "08c7a192-34a2-4031-8af7-46b1e2cf7e9f"
      },
      "source": [
        "cf = name+'_cf_matrix'\n",
        "print(cf)\n",
        "cf_matrix = confusion_matrix(predicted_labels,true_labels)\n",
        "plt.figure(figsize=(10,8))\n",
        "sns.heatmap(cf_matrix, xticklabels=label_names, yticklabels=label_names, annot=True, fmt = 'd')\n",
        "plt.title('Confusion Matrix')\n",
        "plt.ylabel('True class')\n",
        "plt.xlabel('Predicted class')\n",
        "#save confusion matrix to gdrive\n",
        "plt.savefig(f'drive/My Drive/recyclables/InceptionV3_model/graphs/{cf}')\n",
        "plt.show()"
      ],
      "execution_count": null,
      "outputs": [
        {
          "output_type": "stream",
          "text": [
            "InceptionV3_6_cf_matrix\n"
          ],
          "name": "stdout"
        },
        {
          "output_type": "display_data",
          "data": {
            "image/png": "[encoded data removed]",
            "text/plain": [
              "<Figure size 720x576 with 2 Axes>"
            ]
          },
          "metadata": {
            "tags": [],
            "needs_background": "light"
          }
        }
      ]
    },
    {
      "cell_type": "markdown",
      "metadata": {
        "id": "DjZPxZOAE-U5"
      },
      "source": [
        "## Testing model on a single image to replicate steps for front end UI"
      ]
    },
    {
      "cell_type": "code",
      "metadata": {
        "id": "MrFT3-zNrT9i"
      },
      "source": [
        "from keras.preprocessing.image import ImageDataGenerator\n",
        "import cv2\n",
        "inception = 'drive/My Drive/recyclables/InceptionV3_model/InceptionV3_8'\n",
        "trained_model = load_model(inception)"
      ],
      "execution_count": null,
      "outputs": []
    },
    {
      "cell_type": "code",
      "metadata": {
        "colab": {
          "base_uri": "https://localhost:8080/",
          "height": 269
        },
        "id": "MkjKfCB7xGUW",
        "outputId": "69eb3488-c74b-43ae-e91a-8289b167c8fc"
      },
      "source": [
        "# test sample image of plastic bottle taken from iphone \n",
        "image_name = 'drive/My Drive/recyclables/test_2/metal/chopstick.jpg'\n",
        "img = image.load_img(image_name)\n",
        "# img = image.load_img('drive/My Drive/recyclables/sample_image_2.jpg')\n",
        "# img = image.load_img('drive/My Drive/recyclables/sample_image_4.jpg')\n",
        "imgplot = plt.imshow(img)\n",
        "plt.show()"
      ],
      "execution_count": null,
      "outputs": [
        {
          "output_type": "display_data",
          "data": {
            "image/png": "[encoded data removed]",
            "text/plain": [
              "<Figure size 432x288 with 1 Axes>"
            ]
          },
          "metadata": {
            "tags": [],
            "needs_background": "light"
          }
        }
      ]
    },
    {
      "cell_type": "code",
      "metadata": {
        "colab": {
          "base_uri": "https://localhost:8080/"
        },
        "id": "ClM7cOjN3Z9l",
        "outputId": "7b991350-dba1-47d1-89e0-532c58949600"
      },
      "source": [
        "label_names = [i for i in train_set.class_indices.keys()]  #label names\n",
        "print(label_names)"
      ],
      "execution_count": null,
      "outputs": [
        {
          "output_type": "stream",
          "text": [
            "['cardboard', 'glass', 'metal', 'paper', 'plastic']\n"
          ],
          "name": "stdout"
        }
      ]
    },
    {
      "cell_type": "code",
      "metadata": {
        "colab": {
          "base_uri": "https://localhost:8080/"
        },
        "id": "k6oUAqKwxKXK",
        "outputId": "5a23974e-3fae-4235-9233-063e2a1c1173"
      },
      "source": [
        "#***********************************************************************\n",
        "#taking in a single image\n",
        "test = cv2.imread(image_name)\n",
        "# test = cv2.imread('drive/My Drive/recyclables/sample_image_2.jpg')\n",
        "# test = cv2.imread('drive/My Drive/recyclables/sample_image_4.jpg')\n",
        "test = cv2.resize(test,(224,224))\n",
        "# data preprocessing to get the input in the same shape\n",
        "x = image.img_to_array(test)  # this is a Numpy array with shape (3, x, y) \n",
        "x = x * 1./255\n",
        "x = x.reshape((1,) + x.shape)  # this is a Numpy array with shape (1, 3, x, y)\n",
        "\n",
        "pred = trained_model.predict_classes(x)  #getting your prediction index\n",
        "confidence = trained_model.predict_proba(x) #getting your prediction confidence levels\n",
        "label_names = [i for i in train_set.class_indices.keys()]  #label names\n",
        "print(f'Input image is predicted to be {label_names[pred[0]]} with confidence level of {round(max(confidence[0]),3)*100}%')"
      ],
      "execution_count": null,
      "outputs": [
        {
          "output_type": "stream",
          "text": [
            "Input image is predicted to be metal with confidence level of 38.10000121593475%\n"
          ],
          "name": "stdout"
        }
      ]
    }
  ]
}